{
  "nbformat": 4,
  "nbformat_minor": 0,
  "metadata": {
    "colab": {
      "provenance": []
    },
    "kernelspec": {
      "name": "python3",
      "display_name": "Python 3"
    },
    "language_info": {
      "name": "python"
    }
  },
  "cells": [
    {
      "cell_type": "code",
      "source": [
        "from google.colab import drive\n",
        "drive.mount('/content/drive')"
      ],
      "metadata": {
        "id": "FCuD45X7IqVM",
        "colab": {
          "base_uri": "https://localhost:8080/"
        },
        "outputId": "07ad0b43-e241-4904-98ff-f6df2e23775e"
      },
      "execution_count": 1,
      "outputs": [
        {
          "output_type": "stream",
          "name": "stdout",
          "text": [
            "Mounted at /content/drive\n"
          ]
        }
      ]
    },
    {
      "cell_type": "code",
      "execution_count": 2,
      "metadata": {
        "id": "_muvcGzgUOyD"
      },
      "outputs": [],
      "source": [
        "import pandas as pd\n",
        "import os\n",
        "import tqdm\n",
        "import json\n",
        "import polars as pl\n",
        "import numpy as np\n",
        "import seaborn as sns"
      ]
    },
    {
      "cell_type": "code",
      "source": [
        "n_core_interactions = pl.read_csv('/content/drive/MyDrive/Mạng xã hội/FM/n_core_user_course.csv')"
      ],
      "metadata": {
        "id": "glOWvU308Jxy"
      },
      "execution_count": 19,
      "outputs": []
    },
    {
      "cell_type": "code",
      "source": [
        "n_core_interactions"
      ],
      "metadata": {
        "colab": {
          "base_uri": "https://localhost:8080/",
          "height": 443
        },
        "id": "CY2U7AjwjMBr",
        "outputId": "013ebc09-23ef-4d3b-b253-761ff9a19cd8"
      },
      "execution_count": null,
      "outputs": [
        {
          "output_type": "execute_result",
          "data": {
            "text/plain": [
              "shape: (1_996_390, 3)\n",
              "┌────────────┬──────────┬─────────────────────┐\n",
              "│ user       ┆ course   ┆ enroll_time         │\n",
              "│ ---        ┆ ---      ┆ ---                 │\n",
              "│ str        ┆ str      ┆ str                 │\n",
              "╞════════════╪══════════╪═════════════════════╡\n",
              "│ U_69       ┆ C_679390 ┆ 2019-09-23 14:57:00 │\n",
              "│ U_69       ┆ C_696994 ┆ 2019-10-12 03:32:49 │\n",
              "│ U_69       ┆ C_697791 ┆ 2019-10-14 15:39:05 │\n",
              "│ U_69       ┆ C_696911 ┆ 2019-10-21 12:54:12 │\n",
              "│ U_69       ┆ C_875624 ┆ 2019-11-05 11:51:59 │\n",
              "│ …          ┆ …        ┆ …                   │\n",
              "│ U_34712050 ┆ C_879054 ┆ 2020-10-14 17:52:03 │\n",
              "│ U_34712050 ┆ C_696956 ┆ 2020-10-14 19:00:11 │\n",
              "│ U_34712050 ┆ C_797404 ┆ 2020-10-14 21:30:56 │\n",
              "│ U_34712050 ┆ C_681422 ┆ 2020-12-01 19:43:47 │\n",
              "│ U_34712050 ┆ C_681076 ┆ 2020-12-01 20:49:44 │\n",
              "└────────────┴──────────┴─────────────────────┘"
            ],
            "text/html": [
              "<div><style>\n",
              ".dataframe > thead > tr,\n",
              ".dataframe > tbody > tr {\n",
              "  text-align: right;\n",
              "  white-space: pre-wrap;\n",
              "}\n",
              "</style>\n",
              "<small>shape: (1_996_390, 3)</small><table border=\"1\" class=\"dataframe\"><thead><tr><th>user</th><th>course</th><th>enroll_time</th></tr><tr><td>str</td><td>str</td><td>str</td></tr></thead><tbody><tr><td>&quot;U_69&quot;</td><td>&quot;C_679390&quot;</td><td>&quot;2019-09-23 14:57:00&quot;</td></tr><tr><td>&quot;U_69&quot;</td><td>&quot;C_696994&quot;</td><td>&quot;2019-10-12 03:32:49&quot;</td></tr><tr><td>&quot;U_69&quot;</td><td>&quot;C_697791&quot;</td><td>&quot;2019-10-14 15:39:05&quot;</td></tr><tr><td>&quot;U_69&quot;</td><td>&quot;C_696911&quot;</td><td>&quot;2019-10-21 12:54:12&quot;</td></tr><tr><td>&quot;U_69&quot;</td><td>&quot;C_875624&quot;</td><td>&quot;2019-11-05 11:51:59&quot;</td></tr><tr><td>&hellip;</td><td>&hellip;</td><td>&hellip;</td></tr><tr><td>&quot;U_34712050&quot;</td><td>&quot;C_879054&quot;</td><td>&quot;2020-10-14 17:52:03&quot;</td></tr><tr><td>&quot;U_34712050&quot;</td><td>&quot;C_696956&quot;</td><td>&quot;2020-10-14 19:00:11&quot;</td></tr><tr><td>&quot;U_34712050&quot;</td><td>&quot;C_797404&quot;</td><td>&quot;2020-10-14 21:30:56&quot;</td></tr><tr><td>&quot;U_34712050&quot;</td><td>&quot;C_681422&quot;</td><td>&quot;2020-12-01 19:43:47&quot;</td></tr><tr><td>&quot;U_34712050&quot;</td><td>&quot;C_681076&quot;</td><td>&quot;2020-12-01 20:49:44&quot;</td></tr></tbody></table></div>"
            ]
          },
          "metadata": {},
          "execution_count": 4
        }
      ]
    },
    {
      "cell_type": "markdown",
      "source": [
        "Tạo các quan hệ giữa course và các đối tượng khác"
      ],
      "metadata": {
        "id": "jvIefXm1PNW3"
      }
    },
    {
      "cell_type": "markdown",
      "source": [
        "## Knowledge Graph filtering"
      ],
      "metadata": {
        "id": "b5IJ6BWwqkMd"
      }
    },
    {
      "cell_type": "markdown",
      "source": [
        "### course-teacher"
      ],
      "metadata": {
        "id": "8xcwaYzrlgTd"
      }
    },
    {
      "cell_type": "code",
      "source": [
        "course_teacher_df = pl.read_csv('/content/drive/MyDrive/Mạng xã hội/FM/course_teacher_filtered.txt',\n",
        "                                separator='\\t', has_header=False, new_columns=['course', 'teacher'])\n",
        "course_teacher_df"
      ],
      "metadata": {
        "colab": {
          "base_uri": "https://localhost:8080/",
          "height": 443
        },
        "id": "BpyCr03failz",
        "outputId": "2cd6a0c1-0aac-4e89-e118-ae91281ff094"
      },
      "execution_count": 5,
      "outputs": [
        {
          "output_type": "execute_result",
          "data": {
            "text/plain": [
              "shape: (13_183, 2)\n",
              "┌───────────┬─────────┐\n",
              "│ course    ┆ teacher │\n",
              "│ ---       ┆ ---     │\n",
              "│ str       ┆ str     │\n",
              "╞═══════════╪═════════╡\n",
              "│ C_584313  ┆ T_20    │\n",
              "│ C_584329  ┆ T_21    │\n",
              "│ C_584329  ┆ T_22    │\n",
              "│ C_584381  ┆ T_23    │\n",
              "│ C_597208  ┆ T_28    │\n",
              "│ …         ┆ …       │\n",
              "│ C_2344479 ┆ T_16368 │\n",
              "│ C_2344479 ┆ T_16369 │\n",
              "│ C_2344479 ┆ T_16370 │\n",
              "│ C_2344479 ┆ T_16371 │\n",
              "│ C_2344479 ┆ T_16372 │\n",
              "└───────────┴─────────┘"
            ],
            "text/html": [
              "<div><style>\n",
              ".dataframe > thead > tr,\n",
              ".dataframe > tbody > tr {\n",
              "  text-align: right;\n",
              "  white-space: pre-wrap;\n",
              "}\n",
              "</style>\n",
              "<small>shape: (13_183, 2)</small><table border=\"1\" class=\"dataframe\"><thead><tr><th>course</th><th>teacher</th></tr><tr><td>str</td><td>str</td></tr></thead><tbody><tr><td>&quot;C_584313&quot;</td><td>&quot;T_20&quot;</td></tr><tr><td>&quot;C_584329&quot;</td><td>&quot;T_21&quot;</td></tr><tr><td>&quot;C_584329&quot;</td><td>&quot;T_22&quot;</td></tr><tr><td>&quot;C_584381&quot;</td><td>&quot;T_23&quot;</td></tr><tr><td>&quot;C_597208&quot;</td><td>&quot;T_28&quot;</td></tr><tr><td>&hellip;</td><td>&hellip;</td></tr><tr><td>&quot;C_2344479&quot;</td><td>&quot;T_16368&quot;</td></tr><tr><td>&quot;C_2344479&quot;</td><td>&quot;T_16369&quot;</td></tr><tr><td>&quot;C_2344479&quot;</td><td>&quot;T_16370&quot;</td></tr><tr><td>&quot;C_2344479&quot;</td><td>&quot;T_16371&quot;</td></tr><tr><td>&quot;C_2344479&quot;</td><td>&quot;T_16372&quot;</td></tr></tbody></table></div>"
            ]
          },
          "metadata": {},
          "execution_count": 5
        }
      ]
    },
    {
      "cell_type": "code",
      "source": [
        "course_teacher_df = course_teacher_df.rename({'course': 'h', 'teacher': 't'}) \\\n",
        "                                    .with_columns(pl.lit('course.teacher').alias('r')) \\\n",
        "                                    .select(['h', 'r', 't'])\n",
        "\n",
        "course_teacher_df"
      ],
      "metadata": {
        "colab": {
          "base_uri": "https://localhost:8080/",
          "height": 443
        },
        "id": "PGqExvKkDhiQ",
        "outputId": "868ea802-de06-4bfc-9db2-c9d2d10351fa"
      },
      "execution_count": 6,
      "outputs": [
        {
          "output_type": "execute_result",
          "data": {
            "text/plain": [
              "shape: (13_183, 3)\n",
              "┌───────────┬────────────────┬─────────┐\n",
              "│ h         ┆ r              ┆ t       │\n",
              "│ ---       ┆ ---            ┆ ---     │\n",
              "│ str       ┆ str            ┆ str     │\n",
              "╞═══════════╪════════════════╪═════════╡\n",
              "│ C_584313  ┆ course.teacher ┆ T_20    │\n",
              "│ C_584329  ┆ course.teacher ┆ T_21    │\n",
              "│ C_584329  ┆ course.teacher ┆ T_22    │\n",
              "│ C_584381  ┆ course.teacher ┆ T_23    │\n",
              "│ C_597208  ┆ course.teacher ┆ T_28    │\n",
              "│ …         ┆ …              ┆ …       │\n",
              "│ C_2344479 ┆ course.teacher ┆ T_16368 │\n",
              "│ C_2344479 ┆ course.teacher ┆ T_16369 │\n",
              "│ C_2344479 ┆ course.teacher ┆ T_16370 │\n",
              "│ C_2344479 ┆ course.teacher ┆ T_16371 │\n",
              "│ C_2344479 ┆ course.teacher ┆ T_16372 │\n",
              "└───────────┴────────────────┴─────────┘"
            ],
            "text/html": [
              "<div><style>\n",
              ".dataframe > thead > tr,\n",
              ".dataframe > tbody > tr {\n",
              "  text-align: right;\n",
              "  white-space: pre-wrap;\n",
              "}\n",
              "</style>\n",
              "<small>shape: (13_183, 3)</small><table border=\"1\" class=\"dataframe\"><thead><tr><th>h</th><th>r</th><th>t</th></tr><tr><td>str</td><td>str</td><td>str</td></tr></thead><tbody><tr><td>&quot;C_584313&quot;</td><td>&quot;course.teacher&quot;</td><td>&quot;T_20&quot;</td></tr><tr><td>&quot;C_584329&quot;</td><td>&quot;course.teacher&quot;</td><td>&quot;T_21&quot;</td></tr><tr><td>&quot;C_584329&quot;</td><td>&quot;course.teacher&quot;</td><td>&quot;T_22&quot;</td></tr><tr><td>&quot;C_584381&quot;</td><td>&quot;course.teacher&quot;</td><td>&quot;T_23&quot;</td></tr><tr><td>&quot;C_597208&quot;</td><td>&quot;course.teacher&quot;</td><td>&quot;T_28&quot;</td></tr><tr><td>&hellip;</td><td>&hellip;</td><td>&hellip;</td></tr><tr><td>&quot;C_2344479&quot;</td><td>&quot;course.teacher&quot;</td><td>&quot;T_16368&quot;</td></tr><tr><td>&quot;C_2344479&quot;</td><td>&quot;course.teacher&quot;</td><td>&quot;T_16369&quot;</td></tr><tr><td>&quot;C_2344479&quot;</td><td>&quot;course.teacher&quot;</td><td>&quot;T_16370&quot;</td></tr><tr><td>&quot;C_2344479&quot;</td><td>&quot;course.teacher&quot;</td><td>&quot;T_16371&quot;</td></tr><tr><td>&quot;C_2344479&quot;</td><td>&quot;course.teacher&quot;</td><td>&quot;T_16372&quot;</td></tr></tbody></table></div>"
            ]
          },
          "metadata": {},
          "execution_count": 6
        }
      ]
    },
    {
      "cell_type": "markdown",
      "source": [
        "### Course-school"
      ],
      "metadata": {
        "id": "_mQXn4pJmw6B"
      }
    },
    {
      "cell_type": "code",
      "source": [
        "course_school_df = pl.read_csv('/content/drive/MyDrive/Mạng xã hội/FM/course_school_filtered.txt',\n",
        "                                separator='\\t', has_header=False, new_columns=['course', 'school'])\n",
        "course_school_df"
      ],
      "metadata": {
        "colab": {
          "base_uri": "https://localhost:8080/",
          "height": 443
        },
        "id": "BiONy9v5a5b7",
        "outputId": "5d9358d7-3321-49ef-c239-1eef5fce4089"
      },
      "execution_count": 7,
      "outputs": [
        {
          "output_type": "execute_result",
          "data": {
            "text/plain": [
              "shape: (3_604, 2)\n",
              "┌───────────┬────────┐\n",
              "│ course    ┆ school │\n",
              "│ ---       ┆ ---    │\n",
              "│ str       ┆ str    │\n",
              "╞═══════════╪════════╡\n",
              "│ C_584313  ┆ S_1    │\n",
              "│ C_584329  ┆ S_1    │\n",
              "│ C_584381  ┆ S_1    │\n",
              "│ C_597208  ┆ S_1    │\n",
              "│ C_597225  ┆ S_6    │\n",
              "│ …         ┆ …      │\n",
              "│ C_2343056 ┆ S_97   │\n",
              "│ C_2343067 ┆ S_33   │\n",
              "│ C_2343133 ┆ S_63   │\n",
              "│ C_2343522 ┆ S_12   │\n",
              "│ C_2344479 ┆ S_194  │\n",
              "└───────────┴────────┘"
            ],
            "text/html": [
              "<div><style>\n",
              ".dataframe > thead > tr,\n",
              ".dataframe > tbody > tr {\n",
              "  text-align: right;\n",
              "  white-space: pre-wrap;\n",
              "}\n",
              "</style>\n",
              "<small>shape: (3_604, 2)</small><table border=\"1\" class=\"dataframe\"><thead><tr><th>course</th><th>school</th></tr><tr><td>str</td><td>str</td></tr></thead><tbody><tr><td>&quot;C_584313&quot;</td><td>&quot;S_1&quot;</td></tr><tr><td>&quot;C_584329&quot;</td><td>&quot;S_1&quot;</td></tr><tr><td>&quot;C_584381&quot;</td><td>&quot;S_1&quot;</td></tr><tr><td>&quot;C_597208&quot;</td><td>&quot;S_1&quot;</td></tr><tr><td>&quot;C_597225&quot;</td><td>&quot;S_6&quot;</td></tr><tr><td>&hellip;</td><td>&hellip;</td></tr><tr><td>&quot;C_2343056&quot;</td><td>&quot;S_97&quot;</td></tr><tr><td>&quot;C_2343067&quot;</td><td>&quot;S_33&quot;</td></tr><tr><td>&quot;C_2343133&quot;</td><td>&quot;S_63&quot;</td></tr><tr><td>&quot;C_2343522&quot;</td><td>&quot;S_12&quot;</td></tr><tr><td>&quot;C_2344479&quot;</td><td>&quot;S_194&quot;</td></tr></tbody></table></div>"
            ]
          },
          "metadata": {},
          "execution_count": 7
        }
      ]
    },
    {
      "cell_type": "code",
      "source": [
        "course_school_df = course_school_df.rename({'course': 'h', 'school': 't'}) \\\n",
        "                                    .with_columns(pl.lit('course.school').alias('r')) \\\n",
        "                                    .select(['h', 'r', 't'])\n",
        "\n",
        "course_school_df"
      ],
      "metadata": {
        "colab": {
          "base_uri": "https://localhost:8080/",
          "height": 443
        },
        "id": "49CIbV6QD76x",
        "outputId": "7158c468-6a25-4372-8d3f-74ddca527e2f"
      },
      "execution_count": 8,
      "outputs": [
        {
          "output_type": "execute_result",
          "data": {
            "text/plain": [
              "shape: (3_604, 3)\n",
              "┌───────────┬───────────────┬───────┐\n",
              "│ h         ┆ r             ┆ t     │\n",
              "│ ---       ┆ ---           ┆ ---   │\n",
              "│ str       ┆ str           ┆ str   │\n",
              "╞═══════════╪═══════════════╪═══════╡\n",
              "│ C_584313  ┆ course.school ┆ S_1   │\n",
              "│ C_584329  ┆ course.school ┆ S_1   │\n",
              "│ C_584381  ┆ course.school ┆ S_1   │\n",
              "│ C_597208  ┆ course.school ┆ S_1   │\n",
              "│ C_597225  ┆ course.school ┆ S_6   │\n",
              "│ …         ┆ …             ┆ …     │\n",
              "│ C_2343056 ┆ course.school ┆ S_97  │\n",
              "│ C_2343067 ┆ course.school ┆ S_33  │\n",
              "│ C_2343133 ┆ course.school ┆ S_63  │\n",
              "│ C_2343522 ┆ course.school ┆ S_12  │\n",
              "│ C_2344479 ┆ course.school ┆ S_194 │\n",
              "└───────────┴───────────────┴───────┘"
            ],
            "text/html": [
              "<div><style>\n",
              ".dataframe > thead > tr,\n",
              ".dataframe > tbody > tr {\n",
              "  text-align: right;\n",
              "  white-space: pre-wrap;\n",
              "}\n",
              "</style>\n",
              "<small>shape: (3_604, 3)</small><table border=\"1\" class=\"dataframe\"><thead><tr><th>h</th><th>r</th><th>t</th></tr><tr><td>str</td><td>str</td><td>str</td></tr></thead><tbody><tr><td>&quot;C_584313&quot;</td><td>&quot;course.school&quot;</td><td>&quot;S_1&quot;</td></tr><tr><td>&quot;C_584329&quot;</td><td>&quot;course.school&quot;</td><td>&quot;S_1&quot;</td></tr><tr><td>&quot;C_584381&quot;</td><td>&quot;course.school&quot;</td><td>&quot;S_1&quot;</td></tr><tr><td>&quot;C_597208&quot;</td><td>&quot;course.school&quot;</td><td>&quot;S_1&quot;</td></tr><tr><td>&quot;C_597225&quot;</td><td>&quot;course.school&quot;</td><td>&quot;S_6&quot;</td></tr><tr><td>&hellip;</td><td>&hellip;</td><td>&hellip;</td></tr><tr><td>&quot;C_2343056&quot;</td><td>&quot;course.school&quot;</td><td>&quot;S_97&quot;</td></tr><tr><td>&quot;C_2343067&quot;</td><td>&quot;course.school&quot;</td><td>&quot;S_33&quot;</td></tr><tr><td>&quot;C_2343133&quot;</td><td>&quot;course.school&quot;</td><td>&quot;S_63&quot;</td></tr><tr><td>&quot;C_2343522&quot;</td><td>&quot;course.school&quot;</td><td>&quot;S_12&quot;</td></tr><tr><td>&quot;C_2344479&quot;</td><td>&quot;course.school&quot;</td><td>&quot;S_194&quot;</td></tr></tbody></table></div>"
            ]
          },
          "metadata": {},
          "execution_count": 8
        }
      ]
    },
    {
      "cell_type": "markdown",
      "source": [
        "## Course-field"
      ],
      "metadata": {
        "id": "47yS143Rm9Rr"
      }
    },
    {
      "cell_type": "code",
      "source": [
        "course_field_df = pl.read_csv('/content/drive/MyDrive/Mạng xã hội/FM/course_field_filtered.txt',\n",
        "                                separator='\\t', has_header=False, new_columns=['course', 'field'])\n",
        "course_field_df"
      ],
      "metadata": {
        "colab": {
          "base_uri": "https://localhost:8080/",
          "height": 443
        },
        "id": "II8CZhwBm8bK",
        "outputId": "876946b5-ad6b-4284-cc27-df1879c8f0e4"
      },
      "execution_count": 9,
      "outputs": [
        {
          "output_type": "execute_result",
          "data": {
            "text/plain": [
              "shape: (683, 2)\n",
              "┌──────────┬──────────────────┐\n",
              "│ course   ┆ field            │\n",
              "│ ---      ┆ ---              │\n",
              "│ str      ┆ str              │\n",
              "╞══════════╪══════════════════╡\n",
              "│ C_584313 ┆ 历史学           │\n",
              "│ C_584313 ┆ 中国语言文学     │\n",
              "│ C_584329 ┆ 应用经济学       │\n",
              "│ C_584329 ┆ 数学             │\n",
              "│ C_584329 ┆ 物理学           │\n",
              "│ …        ┆ …                │\n",
              "│ C_697791 ┆ 计算机科学与技术 │\n",
              "│ C_682189 ┆ 计算机科学与技术 │\n",
              "│ C_735157 ┆ 计算机科学与技术 │\n",
              "│ C_677218 ┆ 计算机科学与技术 │\n",
              "│ C_697821 ┆ 计算机科学与技术 │\n",
              "└──────────┴──────────────────┘"
            ],
            "text/html": [
              "<div><style>\n",
              ".dataframe > thead > tr,\n",
              ".dataframe > tbody > tr {\n",
              "  text-align: right;\n",
              "  white-space: pre-wrap;\n",
              "}\n",
              "</style>\n",
              "<small>shape: (683, 2)</small><table border=\"1\" class=\"dataframe\"><thead><tr><th>course</th><th>field</th></tr><tr><td>str</td><td>str</td></tr></thead><tbody><tr><td>&quot;C_584313&quot;</td><td>&quot;历史学&quot;</td></tr><tr><td>&quot;C_584313&quot;</td><td>&quot;中国语言文学&quot;</td></tr><tr><td>&quot;C_584329&quot;</td><td>&quot;应用经济学&quot;</td></tr><tr><td>&quot;C_584329&quot;</td><td>&quot;数学&quot;</td></tr><tr><td>&quot;C_584329&quot;</td><td>&quot;物理学&quot;</td></tr><tr><td>&hellip;</td><td>&hellip;</td></tr><tr><td>&quot;C_697791&quot;</td><td>&quot;计算机科学与技术&quot;</td></tr><tr><td>&quot;C_682189&quot;</td><td>&quot;计算机科学与技术&quot;</td></tr><tr><td>&quot;C_735157&quot;</td><td>&quot;计算机科学与技术&quot;</td></tr><tr><td>&quot;C_677218&quot;</td><td>&quot;计算机科学与技术&quot;</td></tr><tr><td>&quot;C_697821&quot;</td><td>&quot;计算机科学与技术&quot;</td></tr></tbody></table></div>"
            ]
          },
          "metadata": {},
          "execution_count": 9
        }
      ]
    },
    {
      "cell_type": "code",
      "source": [
        "course_field_df = course_field_df.rename({'course': 'h', 'field': 't'}) \\\n",
        "                                    .with_columns(pl.lit('course.field').alias('r')) \\\n",
        "                                    .select(['h', 'r', 't'])"
      ],
      "metadata": {
        "id": "ouz2FBworWSC"
      },
      "execution_count": 10,
      "outputs": []
    },
    {
      "cell_type": "code",
      "source": [
        "course_field_df"
      ],
      "metadata": {
        "colab": {
          "base_uri": "https://localhost:8080/",
          "height": 443
        },
        "id": "VuVbMZrIsB01",
        "outputId": "ad76750c-b4fa-4515-93e0-e940dc4ae6b8"
      },
      "execution_count": 11,
      "outputs": [
        {
          "output_type": "execute_result",
          "data": {
            "text/plain": [
              "shape: (683, 3)\n",
              "┌──────────┬──────────────┬──────────────────┐\n",
              "│ h        ┆ r            ┆ t                │\n",
              "│ ---      ┆ ---          ┆ ---              │\n",
              "│ str      ┆ str          ┆ str              │\n",
              "╞══════════╪══════════════╪══════════════════╡\n",
              "│ C_584313 ┆ course.field ┆ 历史学           │\n",
              "│ C_584313 ┆ course.field ┆ 中国语言文学     │\n",
              "│ C_584329 ┆ course.field ┆ 应用经济学       │\n",
              "│ C_584329 ┆ course.field ┆ 数学             │\n",
              "│ C_584329 ┆ course.field ┆ 物理学           │\n",
              "│ …        ┆ …            ┆ …                │\n",
              "│ C_697791 ┆ course.field ┆ 计算机科学与技术 │\n",
              "│ C_682189 ┆ course.field ┆ 计算机科学与技术 │\n",
              "│ C_735157 ┆ course.field ┆ 计算机科学与技术 │\n",
              "│ C_677218 ┆ course.field ┆ 计算机科学与技术 │\n",
              "│ C_697821 ┆ course.field ┆ 计算机科学与技术 │\n",
              "└──────────┴──────────────┴──────────────────┘"
            ],
            "text/html": [
              "<div><style>\n",
              ".dataframe > thead > tr,\n",
              ".dataframe > tbody > tr {\n",
              "  text-align: right;\n",
              "  white-space: pre-wrap;\n",
              "}\n",
              "</style>\n",
              "<small>shape: (683, 3)</small><table border=\"1\" class=\"dataframe\"><thead><tr><th>h</th><th>r</th><th>t</th></tr><tr><td>str</td><td>str</td><td>str</td></tr></thead><tbody><tr><td>&quot;C_584313&quot;</td><td>&quot;course.field&quot;</td><td>&quot;历史学&quot;</td></tr><tr><td>&quot;C_584313&quot;</td><td>&quot;course.field&quot;</td><td>&quot;中国语言文学&quot;</td></tr><tr><td>&quot;C_584329&quot;</td><td>&quot;course.field&quot;</td><td>&quot;应用经济学&quot;</td></tr><tr><td>&quot;C_584329&quot;</td><td>&quot;course.field&quot;</td><td>&quot;数学&quot;</td></tr><tr><td>&quot;C_584329&quot;</td><td>&quot;course.field&quot;</td><td>&quot;物理学&quot;</td></tr><tr><td>&hellip;</td><td>&hellip;</td><td>&hellip;</td></tr><tr><td>&quot;C_697791&quot;</td><td>&quot;course.field&quot;</td><td>&quot;计算机科学与技术&quot;</td></tr><tr><td>&quot;C_682189&quot;</td><td>&quot;course.field&quot;</td><td>&quot;计算机科学与技术&quot;</td></tr><tr><td>&quot;C_735157&quot;</td><td>&quot;course.field&quot;</td><td>&quot;计算机科学与技术&quot;</td></tr><tr><td>&quot;C_677218&quot;</td><td>&quot;course.field&quot;</td><td>&quot;计算机科学与技术&quot;</td></tr><tr><td>&quot;C_697821&quot;</td><td>&quot;course.field&quot;</td><td>&quot;计算机科学与技术&quot;</td></tr></tbody></table></div>"
            ]
          },
          "metadata": {},
          "execution_count": 11
        }
      ]
    },
    {
      "cell_type": "markdown",
      "source": [
        "## Course-concept"
      ],
      "metadata": {
        "id": "fnht6UNrwRN6"
      }
    },
    {
      "cell_type": "code",
      "source": [
        "course_concept_df = pl.read_csv('/content/drive/MyDrive/Mạng xã hội/FM/course_concept_filtered.txt',\n",
        "                                separator='\\t', has_header=False, new_columns=['concept', 'course'])\n",
        "course_concept_df"
      ],
      "metadata": {
        "colab": {
          "base_uri": "https://localhost:8080/",
          "height": 443
        },
        "id": "P8BFnLgWwM3w",
        "outputId": "fd90e5e0-09e3-4537-e14f-013ff73de3f8"
      },
      "execution_count": 12,
      "outputs": [
        {
          "output_type": "execute_result",
          "data": {
            "text/plain": [
              "shape: (451_078, 2)\n",
              "┌─────────────────────────────────┬──────────┐\n",
              "│ concept                         ┆ course   │\n",
              "│ ---                             ┆ ---      │\n",
              "│ str                             ┆ str      │\n",
              "╞═════════════════════════════════╪══════════╡\n",
              "│ K_n号计数器_控制科学与工程      ┆ C_681460 │\n",
              "│ K_串行链接_控制科学与工程       ┆ C_681460 │\n",
              "│ K_热继电器按钮_控制科学与工程   ┆ C_681460 │\n",
              "│ K_谐波污染_控制科学与工程       ┆ C_681460 │\n",
              "│ K_偶校验转换_控制科学与工程     ┆ C_681460 │\n",
              "│ …                               ┆ …        │\n",
              "│ K_稳态人均资本_应用经济学       ┆ C_696675 │\n",
              "│ K_稳态的人均资本_应用经济学     ┆ C_696675 │\n",
              "│ K_资本的黄金律水平_应用经济学   ┆ C_696675 │\n",
              "│ K_折旧率_应用经济学             ┆ C_696675 │\n",
              "│ K_资本积累的黄金律水平_应用经济 ┆ C_696675 │\n",
              "│ 学                              ┆          │\n",
              "└─────────────────────────────────┴──────────┘"
            ],
            "text/html": [
              "<div><style>\n",
              ".dataframe > thead > tr,\n",
              ".dataframe > tbody > tr {\n",
              "  text-align: right;\n",
              "  white-space: pre-wrap;\n",
              "}\n",
              "</style>\n",
              "<small>shape: (451_078, 2)</small><table border=\"1\" class=\"dataframe\"><thead><tr><th>concept</th><th>course</th></tr><tr><td>str</td><td>str</td></tr></thead><tbody><tr><td>&quot;K_n号计数器_控制科学与工程&quot;</td><td>&quot;C_681460&quot;</td></tr><tr><td>&quot;K_串行链接_控制科学与工程&quot;</td><td>&quot;C_681460&quot;</td></tr><tr><td>&quot;K_热继电器按钮_控制科学与工程&quot;</td><td>&quot;C_681460&quot;</td></tr><tr><td>&quot;K_谐波污染_控制科学与工程&quot;</td><td>&quot;C_681460&quot;</td></tr><tr><td>&quot;K_偶校验转换_控制科学与工程&quot;</td><td>&quot;C_681460&quot;</td></tr><tr><td>&hellip;</td><td>&hellip;</td></tr><tr><td>&quot;K_稳态人均资本_应用经济学&quot;</td><td>&quot;C_696675&quot;</td></tr><tr><td>&quot;K_稳态的人均资本_应用经济学&quot;</td><td>&quot;C_696675&quot;</td></tr><tr><td>&quot;K_资本的黄金律水平_应用经济学&quot;</td><td>&quot;C_696675&quot;</td></tr><tr><td>&quot;K_折旧率_应用经济学&quot;</td><td>&quot;C_696675&quot;</td></tr><tr><td>&quot;K_资本积累的黄金律水平_应用经济学&quot;</td><td>&quot;C_696675&quot;</td></tr></tbody></table></div>"
            ]
          },
          "metadata": {},
          "execution_count": 12
        }
      ]
    },
    {
      "cell_type": "code",
      "source": [
        "course_concept_df = course_concept_df.select(['course', 'concept'])"
      ],
      "metadata": {
        "id": "X8hn5W3_fb5d"
      },
      "execution_count": 13,
      "outputs": []
    },
    {
      "cell_type": "code",
      "source": [
        "course_concept_df = course_concept_df.rename({'course': 'h', 'concept': 't'}) \\\n",
        "                                    .with_columns(pl.lit('course.concept').alias('r')) \\\n",
        "                                    .select(['h', 'r', 't'])\n",
        "\n",
        "course_concept_df"
      ],
      "metadata": {
        "colab": {
          "base_uri": "https://localhost:8080/",
          "height": 443
        },
        "id": "td6nuhX9g_FG",
        "outputId": "b4f781b4-7b69-42ee-a085-e166690cd2b6"
      },
      "execution_count": 14,
      "outputs": [
        {
          "output_type": "execute_result",
          "data": {
            "text/plain": [
              "shape: (451_078, 3)\n",
              "┌──────────┬────────────────┬─────────────────────────────────┐\n",
              "│ h        ┆ r              ┆ t                               │\n",
              "│ ---      ┆ ---            ┆ ---                             │\n",
              "│ str      ┆ str            ┆ str                             │\n",
              "╞══════════╪════════════════╪═════════════════════════════════╡\n",
              "│ C_681460 ┆ course.concept ┆ K_n号计数器_控制科学与工程      │\n",
              "│ C_681460 ┆ course.concept ┆ K_串行链接_控制科学与工程       │\n",
              "│ C_681460 ┆ course.concept ┆ K_热继电器按钮_控制科学与工程   │\n",
              "│ C_681460 ┆ course.concept ┆ K_谐波污染_控制科学与工程       │\n",
              "│ C_681460 ┆ course.concept ┆ K_偶校验转换_控制科学与工程     │\n",
              "│ …        ┆ …              ┆ …                               │\n",
              "│ C_696675 ┆ course.concept ┆ K_稳态人均资本_应用经济学       │\n",
              "│ C_696675 ┆ course.concept ┆ K_稳态的人均资本_应用经济学     │\n",
              "│ C_696675 ┆ course.concept ┆ K_资本的黄金律水平_应用经济学   │\n",
              "│ C_696675 ┆ course.concept ┆ K_折旧率_应用经济学             │\n",
              "│ C_696675 ┆ course.concept ┆ K_资本积累的黄金律水平_应用经济 │\n",
              "│          ┆                ┆ 学                              │\n",
              "└──────────┴────────────────┴─────────────────────────────────┘"
            ],
            "text/html": [
              "<div><style>\n",
              ".dataframe > thead > tr,\n",
              ".dataframe > tbody > tr {\n",
              "  text-align: right;\n",
              "  white-space: pre-wrap;\n",
              "}\n",
              "</style>\n",
              "<small>shape: (451_078, 3)</small><table border=\"1\" class=\"dataframe\"><thead><tr><th>h</th><th>r</th><th>t</th></tr><tr><td>str</td><td>str</td><td>str</td></tr></thead><tbody><tr><td>&quot;C_681460&quot;</td><td>&quot;course.concept&quot;</td><td>&quot;K_n号计数器_控制科学与工程&quot;</td></tr><tr><td>&quot;C_681460&quot;</td><td>&quot;course.concept&quot;</td><td>&quot;K_串行链接_控制科学与工程&quot;</td></tr><tr><td>&quot;C_681460&quot;</td><td>&quot;course.concept&quot;</td><td>&quot;K_热继电器按钮_控制科学与工程&quot;</td></tr><tr><td>&quot;C_681460&quot;</td><td>&quot;course.concept&quot;</td><td>&quot;K_谐波污染_控制科学与工程&quot;</td></tr><tr><td>&quot;C_681460&quot;</td><td>&quot;course.concept&quot;</td><td>&quot;K_偶校验转换_控制科学与工程&quot;</td></tr><tr><td>&hellip;</td><td>&hellip;</td><td>&hellip;</td></tr><tr><td>&quot;C_696675&quot;</td><td>&quot;course.concept&quot;</td><td>&quot;K_稳态人均资本_应用经济学&quot;</td></tr><tr><td>&quot;C_696675&quot;</td><td>&quot;course.concept&quot;</td><td>&quot;K_稳态的人均资本_应用经济学&quot;</td></tr><tr><td>&quot;C_696675&quot;</td><td>&quot;course.concept&quot;</td><td>&quot;K_资本的黄金律水平_应用经济学&quot;</td></tr><tr><td>&quot;C_696675&quot;</td><td>&quot;course.concept&quot;</td><td>&quot;K_折旧率_应用经济学&quot;</td></tr><tr><td>&quot;C_696675&quot;</td><td>&quot;course.concept&quot;</td><td>&quot;K_资本积累的黄金律水平_应用经济学&quot;</td></tr></tbody></table></div>"
            ]
          },
          "metadata": {},
          "execution_count": 14
        }
      ]
    },
    {
      "cell_type": "code",
      "source": [
        "course_topic_df = pl.read_csv('/content/drive/MyDrive/Mạng xã hội/FM/course_topic.txt',\n",
        "                                separator='\\t', has_header=False, new_columns=['course', 'topic'])\n",
        "course_topic_df"
      ],
      "metadata": {
        "colab": {
          "base_uri": "https://localhost:8080/",
          "height": 443
        },
        "id": "_r6KOa8Agg7P",
        "outputId": "49f7b73e-a2e5-4039-f5e2-d146a5f951ac"
      },
      "execution_count": 15,
      "outputs": [
        {
          "output_type": "execute_result",
          "data": {
            "text/plain": [
              "shape: (3_177, 2)\n",
              "┌───────────┬───────┐\n",
              "│ course    ┆ topic │\n",
              "│ ---       ┆ ---   │\n",
              "│ str       ┆ i64   │\n",
              "╞═══════════╪═══════╡\n",
              "│ C_584313  ┆ 3     │\n",
              "│ C_584329  ┆ 56    │\n",
              "│ C_584381  ┆ 46    │\n",
              "│ C_597208  ┆ 19    │\n",
              "│ C_597225  ┆ 55    │\n",
              "│ …         ┆ …     │\n",
              "│ C_2338005 ┆ 111   │\n",
              "│ C_2338076 ┆ 79    │\n",
              "│ C_2341259 ┆ 15    │\n",
              "│ C_2337996 ┆ 110   │\n",
              "│ C_1945689 ┆ 25    │\n",
              "└───────────┴───────┘"
            ],
            "text/html": [
              "<div><style>\n",
              ".dataframe > thead > tr,\n",
              ".dataframe > tbody > tr {\n",
              "  text-align: right;\n",
              "  white-space: pre-wrap;\n",
              "}\n",
              "</style>\n",
              "<small>shape: (3_177, 2)</small><table border=\"1\" class=\"dataframe\"><thead><tr><th>course</th><th>topic</th></tr><tr><td>str</td><td>i64</td></tr></thead><tbody><tr><td>&quot;C_584313&quot;</td><td>3</td></tr><tr><td>&quot;C_584329&quot;</td><td>56</td></tr><tr><td>&quot;C_584381&quot;</td><td>46</td></tr><tr><td>&quot;C_597208&quot;</td><td>19</td></tr><tr><td>&quot;C_597225&quot;</td><td>55</td></tr><tr><td>&hellip;</td><td>&hellip;</td></tr><tr><td>&quot;C_2338005&quot;</td><td>111</td></tr><tr><td>&quot;C_2338076&quot;</td><td>79</td></tr><tr><td>&quot;C_2341259&quot;</td><td>15</td></tr><tr><td>&quot;C_2337996&quot;</td><td>110</td></tr><tr><td>&quot;C_1945689&quot;</td><td>25</td></tr></tbody></table></div>"
            ]
          },
          "metadata": {},
          "execution_count": 15
        }
      ]
    },
    {
      "cell_type": "code",
      "source": [
        "course_topic_df = course_topic_df.with_columns(course_topic_df[\"topic\"].cast(pl.Utf8))\n",
        "course_topic_df"
      ],
      "metadata": {
        "colab": {
          "base_uri": "https://localhost:8080/",
          "height": 443
        },
        "id": "TiNPht8nhrs0",
        "outputId": "b699f286-1980-4aef-fbc7-1a5c9f0aa5db"
      },
      "execution_count": 16,
      "outputs": [
        {
          "output_type": "execute_result",
          "data": {
            "text/plain": [
              "shape: (3_177, 2)\n",
              "┌───────────┬───────┐\n",
              "│ course    ┆ topic │\n",
              "│ ---       ┆ ---   │\n",
              "│ str       ┆ str   │\n",
              "╞═══════════╪═══════╡\n",
              "│ C_584313  ┆ 3     │\n",
              "│ C_584329  ┆ 56    │\n",
              "│ C_584381  ┆ 46    │\n",
              "│ C_597208  ┆ 19    │\n",
              "│ C_597225  ┆ 55    │\n",
              "│ …         ┆ …     │\n",
              "│ C_2338005 ┆ 111   │\n",
              "│ C_2338076 ┆ 79    │\n",
              "│ C_2341259 ┆ 15    │\n",
              "│ C_2337996 ┆ 110   │\n",
              "│ C_1945689 ┆ 25    │\n",
              "└───────────┴───────┘"
            ],
            "text/html": [
              "<div><style>\n",
              ".dataframe > thead > tr,\n",
              ".dataframe > tbody > tr {\n",
              "  text-align: right;\n",
              "  white-space: pre-wrap;\n",
              "}\n",
              "</style>\n",
              "<small>shape: (3_177, 2)</small><table border=\"1\" class=\"dataframe\"><thead><tr><th>course</th><th>topic</th></tr><tr><td>str</td><td>str</td></tr></thead><tbody><tr><td>&quot;C_584313&quot;</td><td>&quot;3&quot;</td></tr><tr><td>&quot;C_584329&quot;</td><td>&quot;56&quot;</td></tr><tr><td>&quot;C_584381&quot;</td><td>&quot;46&quot;</td></tr><tr><td>&quot;C_597208&quot;</td><td>&quot;19&quot;</td></tr><tr><td>&quot;C_597225&quot;</td><td>&quot;55&quot;</td></tr><tr><td>&hellip;</td><td>&hellip;</td></tr><tr><td>&quot;C_2338005&quot;</td><td>&quot;111&quot;</td></tr><tr><td>&quot;C_2338076&quot;</td><td>&quot;79&quot;</td></tr><tr><td>&quot;C_2341259&quot;</td><td>&quot;15&quot;</td></tr><tr><td>&quot;C_2337996&quot;</td><td>&quot;110&quot;</td></tr><tr><td>&quot;C_1945689&quot;</td><td>&quot;25&quot;</td></tr></tbody></table></div>"
            ]
          },
          "metadata": {},
          "execution_count": 16
        }
      ]
    },
    {
      "cell_type": "code",
      "source": [
        "course_topic_df = course_topic_df.rename({'course': 'h', 'topic': 't'}) \\\n",
        "                                    .with_columns(pl.lit('course.topic').alias('r')) \\\n",
        "                                    .select(['h', 'r', 't'])"
      ],
      "metadata": {
        "id": "N1xo_rldgvA4"
      },
      "execution_count": 17,
      "outputs": []
    },
    {
      "cell_type": "markdown",
      "source": [
        "### Filter invalid courses (not in interactions_n_core.txt) and filter KG"
      ],
      "metadata": {
        "id": "Cm9_aWFxEhxW"
      }
    },
    {
      "cell_type": "code",
      "source": [
        "n_core_interactions"
      ],
      "metadata": {
        "colab": {
          "base_uri": "https://localhost:8080/",
          "height": 443
        },
        "id": "lLLEcuqTrofC",
        "outputId": "251f5c58-fabc-4ac0-b2c6-0e1ef67620be"
      },
      "execution_count": 20,
      "outputs": [
        {
          "output_type": "execute_result",
          "data": {
            "text/plain": [
              "shape: (1_996_390, 3)\n",
              "┌────────────┬──────────┬─────────────────────┐\n",
              "│ user       ┆ course   ┆ enroll_time         │\n",
              "│ ---        ┆ ---      ┆ ---                 │\n",
              "│ str        ┆ str      ┆ str                 │\n",
              "╞════════════╪══════════╪═════════════════════╡\n",
              "│ U_69       ┆ C_679390 ┆ 2019-09-23 14:57:00 │\n",
              "│ U_69       ┆ C_696994 ┆ 2019-10-12 03:32:49 │\n",
              "│ U_69       ┆ C_697791 ┆ 2019-10-14 15:39:05 │\n",
              "│ U_69       ┆ C_696911 ┆ 2019-10-21 12:54:12 │\n",
              "│ U_69       ┆ C_875624 ┆ 2019-11-05 11:51:59 │\n",
              "│ …          ┆ …        ┆ …                   │\n",
              "│ U_34712050 ┆ C_879054 ┆ 2020-10-14 17:52:03 │\n",
              "│ U_34712050 ┆ C_696956 ┆ 2020-10-14 19:00:11 │\n",
              "│ U_34712050 ┆ C_797404 ┆ 2020-10-14 21:30:56 │\n",
              "│ U_34712050 ┆ C_681422 ┆ 2020-12-01 19:43:47 │\n",
              "│ U_34712050 ┆ C_681076 ┆ 2020-12-01 20:49:44 │\n",
              "└────────────┴──────────┴─────────────────────┘"
            ],
            "text/html": [
              "<div><style>\n",
              ".dataframe > thead > tr,\n",
              ".dataframe > tbody > tr {\n",
              "  text-align: right;\n",
              "  white-space: pre-wrap;\n",
              "}\n",
              "</style>\n",
              "<small>shape: (1_996_390, 3)</small><table border=\"1\" class=\"dataframe\"><thead><tr><th>user</th><th>course</th><th>enroll_time</th></tr><tr><td>str</td><td>str</td><td>str</td></tr></thead><tbody><tr><td>&quot;U_69&quot;</td><td>&quot;C_679390&quot;</td><td>&quot;2019-09-23 14:57:00&quot;</td></tr><tr><td>&quot;U_69&quot;</td><td>&quot;C_696994&quot;</td><td>&quot;2019-10-12 03:32:49&quot;</td></tr><tr><td>&quot;U_69&quot;</td><td>&quot;C_697791&quot;</td><td>&quot;2019-10-14 15:39:05&quot;</td></tr><tr><td>&quot;U_69&quot;</td><td>&quot;C_696911&quot;</td><td>&quot;2019-10-21 12:54:12&quot;</td></tr><tr><td>&quot;U_69&quot;</td><td>&quot;C_875624&quot;</td><td>&quot;2019-11-05 11:51:59&quot;</td></tr><tr><td>&hellip;</td><td>&hellip;</td><td>&hellip;</td></tr><tr><td>&quot;U_34712050&quot;</td><td>&quot;C_879054&quot;</td><td>&quot;2020-10-14 17:52:03&quot;</td></tr><tr><td>&quot;U_34712050&quot;</td><td>&quot;C_696956&quot;</td><td>&quot;2020-10-14 19:00:11&quot;</td></tr><tr><td>&quot;U_34712050&quot;</td><td>&quot;C_797404&quot;</td><td>&quot;2020-10-14 21:30:56&quot;</td></tr><tr><td>&quot;U_34712050&quot;</td><td>&quot;C_681422&quot;</td><td>&quot;2020-12-01 19:43:47&quot;</td></tr><tr><td>&quot;U_34712050&quot;</td><td>&quot;C_681076&quot;</td><td>&quot;2020-12-01 20:49:44&quot;</td></tr></tbody></table></div>"
            ]
          },
          "metadata": {},
          "execution_count": 20
        }
      ]
    },
    {
      "cell_type": "code",
      "source": [
        "valid_courses = set(n_core_interactions['course'])\n",
        "\n",
        "triplets = pl.concat([course_teacher_df, course_school_df, course_field_df, course_concept_df, course_topic_df]) \\\n",
        "                .filter(pl.col('h').is_in(valid_courses)) \\\n",
        "                .unique()\n",
        "\n",
        "triplets"
      ],
      "metadata": {
        "colab": {
          "base_uri": "https://localhost:8080/",
          "height": 443
        },
        "id": "-7cT2JIHiKXO",
        "outputId": "15ac42f7-2fe1-4363-d246-dc710a3d2f0a"
      },
      "execution_count": 21,
      "outputs": [
        {
          "output_type": "execute_result",
          "data": {
            "text/plain": [
              "shape: (366_941, 3)\n",
              "┌───────────┬────────────────┬─────────────────────────────────┐\n",
              "│ h         ┆ r              ┆ t                               │\n",
              "│ ---       ┆ ---            ┆ ---                             │\n",
              "│ str       ┆ str            ┆ str                             │\n",
              "╞═══════════╪════════════════╪═════════════════════════════════╡\n",
              "│ C_1774978 ┆ course.concept ┆ K_战略的实施_管理科学与工程     │\n",
              "│ C_682586  ┆ course.concept ┆ K_文案设计师_艺术学             │\n",
              "│ C_682303  ┆ course.concept ┆ K_劳务外派_海洋科学             │\n",
              "│ C_677095  ┆ course.concept ┆ K_有限_哲学                     │\n",
              "│ C_680762  ┆ course.concept ┆ K_程序_计算机科学与技术         │\n",
              "│ …         ┆ …              ┆ …                               │\n",
              "│ C_696976  ┆ course.concept ┆ K_秩序_管理科学与工程           │\n",
              "│ C_682742  ┆ course.concept ┆ K_会计估计_工商管理             │\n",
              "│ C_697073  ┆ course.concept ┆ K_购物方式_应用经济学           │\n",
              "│ C_696674  ┆ course.concept ┆ K_事件处理程序_计算机科学与技术 │\n",
              "│ C_696958  ┆ course.concept ┆ K_企业国际化_管理科学与工程     │\n",
              "└───────────┴────────────────┴─────────────────────────────────┘"
            ],
            "text/html": [
              "<div><style>\n",
              ".dataframe > thead > tr,\n",
              ".dataframe > tbody > tr {\n",
              "  text-align: right;\n",
              "  white-space: pre-wrap;\n",
              "}\n",
              "</style>\n",
              "<small>shape: (366_941, 3)</small><table border=\"1\" class=\"dataframe\"><thead><tr><th>h</th><th>r</th><th>t</th></tr><tr><td>str</td><td>str</td><td>str</td></tr></thead><tbody><tr><td>&quot;C_1774978&quot;</td><td>&quot;course.concept&quot;</td><td>&quot;K_战略的实施_管理科学与工程&quot;</td></tr><tr><td>&quot;C_682586&quot;</td><td>&quot;course.concept&quot;</td><td>&quot;K_文案设计师_艺术学&quot;</td></tr><tr><td>&quot;C_682303&quot;</td><td>&quot;course.concept&quot;</td><td>&quot;K_劳务外派_海洋科学&quot;</td></tr><tr><td>&quot;C_677095&quot;</td><td>&quot;course.concept&quot;</td><td>&quot;K_有限_哲学&quot;</td></tr><tr><td>&quot;C_680762&quot;</td><td>&quot;course.concept&quot;</td><td>&quot;K_程序_计算机科学与技术&quot;</td></tr><tr><td>&hellip;</td><td>&hellip;</td><td>&hellip;</td></tr><tr><td>&quot;C_696976&quot;</td><td>&quot;course.concept&quot;</td><td>&quot;K_秩序_管理科学与工程&quot;</td></tr><tr><td>&quot;C_682742&quot;</td><td>&quot;course.concept&quot;</td><td>&quot;K_会计估计_工商管理&quot;</td></tr><tr><td>&quot;C_697073&quot;</td><td>&quot;course.concept&quot;</td><td>&quot;K_购物方式_应用经济学&quot;</td></tr><tr><td>&quot;C_696674&quot;</td><td>&quot;course.concept&quot;</td><td>&quot;K_事件处理程序_计算机科学与技术&quot;</td></tr><tr><td>&quot;C_696958&quot;</td><td>&quot;course.concept&quot;</td><td>&quot;K_企业国际化_管理科学与工程&quot;</td></tr></tbody></table></div>"
            ]
          },
          "metadata": {},
          "execution_count": 21
        }
      ]
    },
    {
      "cell_type": "code",
      "source": [
        "def filter_invalid_relations_and_entities(triplets, min_entities=5, min_rel=25):\n",
        "    old_size = -1\n",
        "    while (old_size != triplets.shape[0]):\n",
        "        old_size = triplets.shape[0]\n",
        "\n",
        "        # Filter entites\n",
        "        inter_counts_of_entity = triplets.group_by('t').count()\n",
        "        valid_entities = inter_counts_of_entity.filter(pl.col('count') >= min_entities)['t']\n",
        "        triplets = triplets.filter(pl.col('t').is_in(valid_entities))\n",
        "\n",
        "        # Filter interactions\n",
        "        inter_counts_of_rel = triplets.group_by('r').count()\n",
        "        valid_rels = inter_counts_of_rel.filter(pl.col('count') >= min_rel)['r']\n",
        "        triplets = triplets.filter(pl.col('r').is_in(valid_rels))\n",
        "\n",
        "        print(f'New size: {triplets.shape[0]}')\n",
        "\n",
        "    print('================ Valid relations ===============')\n",
        "    print(triplets['r'].value_counts())\n",
        "\n",
        "    print('===== # of attribute type in each relation =====')\n",
        "    rels = set(triplets['r'])\n",
        "\n",
        "    for rel in rels:\n",
        "        n_uni_attr = triplets.filter(pl.col('r') == rel)['t'].n_unique()\n",
        "        print(f'+ {rel}: {n_uni_attr}')\n",
        "    return triplets"
      ],
      "metadata": {
        "id": "F1u3IYbonxRG"
      },
      "execution_count": 22,
      "outputs": []
    },
    {
      "cell_type": "code",
      "source": [
        "fil_triplets = filter_invalid_relations_and_entities(triplets)"
      ],
      "metadata": {
        "colab": {
          "base_uri": "https://localhost:8080/"
        },
        "id": "FfeEqh16qoaK",
        "outputId": "c38c642c-7a65-4d78-a2d1-9a71dd81f939"
      },
      "execution_count": 23,
      "outputs": [
        {
          "output_type": "stream",
          "name": "stderr",
          "text": [
            "<ipython-input-22-113b393ff3c0>:7: DeprecationWarning: `GroupBy.count` is deprecated. It has been renamed to `len`.\n",
            "  inter_counts_of_entity = triplets.group_by('t').count()\n",
            "<ipython-input-22-113b393ff3c0>:12: DeprecationWarning: `GroupBy.count` is deprecated. It has been renamed to `len`.\n",
            "  inter_counts_of_rel = triplets.group_by('r').count()\n"
          ]
        },
        {
          "output_type": "stream",
          "name": "stdout",
          "text": [
            "New size: 68777\n",
            "New size: 68777\n",
            "================ Valid relations ===============\n",
            "shape: (5, 2)\n",
            "┌────────────────┬───────┐\n",
            "│ r              ┆ count │\n",
            "│ ---            ┆ ---   │\n",
            "│ str            ┆ u32   │\n",
            "╞════════════════╪═══════╡\n",
            "│ course.topic   ┆ 2410  │\n",
            "│ course.school  ┆ 2319  │\n",
            "│ course.field   ┆ 472   │\n",
            "│ course.teacher ┆ 273   │\n",
            "│ course.concept ┆ 63303 │\n",
            "└────────────────┴───────┘\n",
            "===== # of attribute type in each relation =====\n",
            "+ course.concept: 7113\n",
            "+ course.topic: 128\n",
            "+ course.field: 41\n",
            "+ course.teacher: 41\n",
            "+ course.school: 145\n"
          ]
        }
      ]
    },
    {
      "cell_type": "code",
      "source": [
        "fil_triplets"
      ],
      "metadata": {
        "colab": {
          "base_uri": "https://localhost:8080/",
          "height": 443
        },
        "id": "OLDZ053fQLQ-",
        "outputId": "a08c1540-ddcb-46f4-b0aa-6780e6ebfef2"
      },
      "execution_count": 24,
      "outputs": [
        {
          "output_type": "execute_result",
          "data": {
            "text/plain": [
              "shape: (68_777, 3)\n",
              "┌───────────┬────────────────┬───────────────────────────────┐\n",
              "│ h         ┆ r              ┆ t                             │\n",
              "│ ---       ┆ ---            ┆ ---                           │\n",
              "│ str       ┆ str            ┆ str                           │\n",
              "╞═══════════╪════════════════╪═══════════════════════════════╡\n",
              "│ C_677095  ┆ course.concept ┆ K_有限_哲学                   │\n",
              "│ C_680762  ┆ course.concept ┆ K_程序_计算机科学与技术       │\n",
              "│ C_697791  ┆ course.concept ┆ K_对象类型_计算机科学与技术   │\n",
              "│ C_696651  ┆ course.concept ┆ K_一阶电路_电气工程           │\n",
              "│ C_1771156 ┆ course.teacher ┆ T_1423                        │\n",
              "│ …         ┆ …              ┆ …                             │\n",
              "│ C_696700  ┆ course.concept ┆ K_怒发冲冠_中国语言文学       │\n",
              "│ C_696877  ┆ course.concept ┆ K_量子_物理学                 │\n",
              "│ C_735441  ┆ course.concept ┆ K_switch语句_计算机科学与技术 │\n",
              "│ C_696729  ┆ course.concept ┆ K_正弦量的_电气工程           │\n",
              "│ C_696976  ┆ course.concept ┆ K_秩序_管理科学与工程         │\n",
              "└───────────┴────────────────┴───────────────────────────────┘"
            ],
            "text/html": [
              "<div><style>\n",
              ".dataframe > thead > tr,\n",
              ".dataframe > tbody > tr {\n",
              "  text-align: right;\n",
              "  white-space: pre-wrap;\n",
              "}\n",
              "</style>\n",
              "<small>shape: (68_777, 3)</small><table border=\"1\" class=\"dataframe\"><thead><tr><th>h</th><th>r</th><th>t</th></tr><tr><td>str</td><td>str</td><td>str</td></tr></thead><tbody><tr><td>&quot;C_677095&quot;</td><td>&quot;course.concept&quot;</td><td>&quot;K_有限_哲学&quot;</td></tr><tr><td>&quot;C_680762&quot;</td><td>&quot;course.concept&quot;</td><td>&quot;K_程序_计算机科学与技术&quot;</td></tr><tr><td>&quot;C_697791&quot;</td><td>&quot;course.concept&quot;</td><td>&quot;K_对象类型_计算机科学与技术&quot;</td></tr><tr><td>&quot;C_696651&quot;</td><td>&quot;course.concept&quot;</td><td>&quot;K_一阶电路_电气工程&quot;</td></tr><tr><td>&quot;C_1771156&quot;</td><td>&quot;course.teacher&quot;</td><td>&quot;T_1423&quot;</td></tr><tr><td>&hellip;</td><td>&hellip;</td><td>&hellip;</td></tr><tr><td>&quot;C_696700&quot;</td><td>&quot;course.concept&quot;</td><td>&quot;K_怒发冲冠_中国语言文学&quot;</td></tr><tr><td>&quot;C_696877&quot;</td><td>&quot;course.concept&quot;</td><td>&quot;K_量子_物理学&quot;</td></tr><tr><td>&quot;C_735441&quot;</td><td>&quot;course.concept&quot;</td><td>&quot;K_switch语句_计算机科学与技术&quot;</td></tr><tr><td>&quot;C_696729&quot;</td><td>&quot;course.concept&quot;</td><td>&quot;K_正弦量的_电气工程&quot;</td></tr><tr><td>&quot;C_696976&quot;</td><td>&quot;course.concept&quot;</td><td>&quot;K_秩序_管理科学与工程&quot;</td></tr></tbody></table></div>"
            ]
          },
          "metadata": {},
          "execution_count": 24
        }
      ]
    },
    {
      "cell_type": "markdown",
      "source": [
        "# Mapping, Train-val-test split"
      ],
      "metadata": {
        "id": "E_lrE9BtrUSN"
      }
    },
    {
      "cell_type": "code",
      "source": [
        "MODEL_DATA_DIR = '/content/drive/MyDrive/Mạng xã hội/FM'\n",
        "ENTITY_PATH = MODEL_DATA_DIR + '/entity_list.txt'\n",
        "ITEM_PATH = MODEL_DATA_DIR + '/item_list.txt'\n",
        "RELATION_PATH = MODEL_DATA_DIR + '/relation_list.txt'\n",
        "KG_PATH = MODEL_DATA_DIR + '/kg_final.txt'\n",
        "USER_PATH = MODEL_DATA_DIR + '/user_list.txt'\n",
        "TRAIN_PATH = MODEL_DATA_DIR + '/train.txt'\n",
        "VAL_PATH = MODEL_DATA_DIR + '/val.txt'\n",
        "TEST_PATH = MODEL_DATA_DIR + '/test.txt'"
      ],
      "metadata": {
        "id": "IKOxKSy5zj0h"
      },
      "execution_count": null,
      "outputs": []
    },
    {
      "cell_type": "markdown",
      "source": [
        "### Write to entity list, item list, relation list"
      ],
      "metadata": {
        "id": "j6z87bMu0Ozd"
      }
    },
    {
      "cell_type": "markdown",
      "source": [
        "### items"
      ],
      "metadata": {
        "id": "-4JX1aJvTi9H"
      }
    },
    {
      "cell_type": "code",
      "source": [
        "item_df = pl.read_csv('/content/drive/MyDrive/Mạng xã hội/FM/course_map.csv', has_header=False) \\\n",
        "          .rename({\"column_1\": \"org_id\", \"column_2\": \"remap_id\"})"
      ],
      "metadata": {
        "id": "S4JLPb4r4glg"
      },
      "execution_count": null,
      "outputs": []
    },
    {
      "cell_type": "code",
      "source": [
        "item_df.head()"
      ],
      "metadata": {
        "colab": {
          "base_uri": "https://localhost:8080/",
          "height": 255
        },
        "id": "w-4DdRfqq-BQ",
        "outputId": "7fbb78d8-c773-44a6-c439-f5289f926d88"
      },
      "execution_count": null,
      "outputs": [
        {
          "output_type": "execute_result",
          "data": {
            "text/plain": [
              "shape: (5, 2)\n",
              "┌──────────┬──────────┐\n",
              "│ org_id   ┆ remap_id │\n",
              "│ ---      ┆ ---      │\n",
              "│ str      ┆ i64      │\n",
              "╞══════════╪══════════╡\n",
              "│ C_679390 ┆ 0        │\n",
              "│ C_696994 ┆ 1        │\n",
              "│ C_697791 ┆ 2        │\n",
              "│ C_696911 ┆ 3        │\n",
              "│ C_875624 ┆ 4        │\n",
              "└──────────┴──────────┘"
            ],
            "text/html": [
              "<div><style>\n",
              ".dataframe > thead > tr,\n",
              ".dataframe > tbody > tr {\n",
              "  text-align: right;\n",
              "  white-space: pre-wrap;\n",
              "}\n",
              "</style>\n",
              "<small>shape: (5, 2)</small><table border=\"1\" class=\"dataframe\"><thead><tr><th>org_id</th><th>remap_id</th></tr><tr><td>str</td><td>i64</td></tr></thead><tbody><tr><td>&quot;C_679390&quot;</td><td>0</td></tr><tr><td>&quot;C_696994&quot;</td><td>1</td></tr><tr><td>&quot;C_697791&quot;</td><td>2</td></tr><tr><td>&quot;C_696911&quot;</td><td>3</td></tr><tr><td>&quot;C_875624&quot;</td><td>4</td></tr></tbody></table></div>"
            ]
          },
          "metadata": {},
          "execution_count": 35
        }
      ]
    },
    {
      "cell_type": "code",
      "source": [
        "item_df.write_csv(ITEM_PATH, separator=' ', include_header=True)"
      ],
      "metadata": {
        "id": "nONf0Cp4V9Is"
      },
      "execution_count": null,
      "outputs": []
    },
    {
      "cell_type": "markdown",
      "source": [
        "### entities"
      ],
      "metadata": {
        "id": "wxr65y9vTpdh"
      }
    },
    {
      "cell_type": "code",
      "source": [
        "item_df = item_df.select('org_id')\n",
        "\n",
        "entity_df = fil_triplets.select('t') \\\n",
        "                        .unique() \\\n",
        "                        .rename({'t': 'org_id'})\n",
        "\n",
        "entity_df = pl.concat([item_df, entity_df]) \\\n",
        "                .with_columns(pl.Series(range(item_df.shape[0] + entity_df.shape[0])).alias('remap_id'))\n",
        "\n",
        "entity_df"
      ],
      "metadata": {
        "colab": {
          "base_uri": "https://localhost:8080/",
          "height": 443
        },
        "id": "iT9oqs3y6TrZ",
        "outputId": "a166ef2f-cf8a-4def-c15c-40dc208650d8"
      },
      "execution_count": null,
      "outputs": [
        {
          "output_type": "execute_result",
          "data": {
            "text/plain": [
              "shape: (10_296, 2)\n",
              "┌─────────────────────────────┬──────────┐\n",
              "│ org_id                      ┆ remap_id │\n",
              "│ ---                         ┆ ---      │\n",
              "│ str                         ┆ i64      │\n",
              "╞═════════════════════════════╪══════════╡\n",
              "│ C_679390                    ┆ 0        │\n",
              "│ C_696994                    ┆ 1        │\n",
              "│ C_697791                    ┆ 2        │\n",
              "│ C_696911                    ┆ 3        │\n",
              "│ C_875624                    ┆ 4        │\n",
              "│ …                           ┆ …        │\n",
              "│ K_干密度_地质学             ┆ 10291    │\n",
              "│ S_113                       ┆ 10292    │\n",
              "│ K_RS触发器_电子科学与技术   ┆ 10293    │\n",
              "│ K_取代_化学                 ┆ 10294    │\n",
              "│ K_数据存取_计算机科学与技术 ┆ 10295    │\n",
              "└─────────────────────────────┴──────────┘"
            ],
            "text/html": [
              "<div><style>\n",
              ".dataframe > thead > tr,\n",
              ".dataframe > tbody > tr {\n",
              "  text-align: right;\n",
              "  white-space: pre-wrap;\n",
              "}\n",
              "</style>\n",
              "<small>shape: (10_296, 2)</small><table border=\"1\" class=\"dataframe\"><thead><tr><th>org_id</th><th>remap_id</th></tr><tr><td>str</td><td>i64</td></tr></thead><tbody><tr><td>&quot;C_679390&quot;</td><td>0</td></tr><tr><td>&quot;C_696994&quot;</td><td>1</td></tr><tr><td>&quot;C_697791&quot;</td><td>2</td></tr><tr><td>&quot;C_696911&quot;</td><td>3</td></tr><tr><td>&quot;C_875624&quot;</td><td>4</td></tr><tr><td>&hellip;</td><td>&hellip;</td></tr><tr><td>&quot;K_干密度_地质学&quot;</td><td>10291</td></tr><tr><td>&quot;S_113&quot;</td><td>10292</td></tr><tr><td>&quot;K_RS触发器_电子科学与技术&quot;</td><td>10293</td></tr><tr><td>&quot;K_取代_化学&quot;</td><td>10294</td></tr><tr><td>&quot;K_数据存取_计算机科学与技术&quot;</td><td>10295</td></tr></tbody></table></div>"
            ]
          },
          "metadata": {},
          "execution_count": 36
        }
      ]
    },
    {
      "cell_type": "code",
      "source": [
        "entity_df.filter(pl.col(\"org_id\") == 'C_1925117')"
      ],
      "metadata": {
        "colab": {
          "base_uri": "https://localhost:8080/",
          "height": 129
        },
        "id": "UDUa6CQUsgOL",
        "outputId": "69e0adb3-72f6-41d9-ed5d-cbf897e04819"
      },
      "execution_count": null,
      "outputs": [
        {
          "output_type": "execute_result",
          "data": {
            "text/plain": [
              "shape: (1, 2)\n",
              "┌───────────┬──────────┐\n",
              "│ org_id    ┆ remap_id │\n",
              "│ ---       ┆ ---      │\n",
              "│ str       ┆ i64      │\n",
              "╞═══════════╪══════════╡\n",
              "│ C_1925117 ┆ 2824     │\n",
              "└───────────┴──────────┘"
            ],
            "text/html": [
              "<div><style>\n",
              ".dataframe > thead > tr,\n",
              ".dataframe > tbody > tr {\n",
              "  text-align: right;\n",
              "  white-space: pre-wrap;\n",
              "}\n",
              "</style>\n",
              "<small>shape: (1, 2)</small><table border=\"1\" class=\"dataframe\"><thead><tr><th>org_id</th><th>remap_id</th></tr><tr><td>str</td><td>i64</td></tr></thead><tbody><tr><td>&quot;C_1925117&quot;</td><td>2824</td></tr></tbody></table></div>"
            ]
          },
          "metadata": {},
          "execution_count": 37
        }
      ]
    },
    {
      "cell_type": "code",
      "source": [
        "entity_df.write_csv(ENTITY_PATH, separator=' ', include_header=True)"
      ],
      "metadata": {
        "id": "NN-FbBRcXCQq"
      },
      "execution_count": null,
      "outputs": []
    },
    {
      "cell_type": "markdown",
      "source": [
        "### relations"
      ],
      "metadata": {
        "id": "RPJEoIhyTuRJ"
      }
    },
    {
      "cell_type": "code",
      "source": [
        "rel_df = fil_triplets.select('r').unique()\n",
        "rel_df = rel_df.with_columns(pl.Series(range(rel_df.shape[0])).alias('remap_id')) \\\n",
        "                .rename({'r': 'org_id'})\n",
        "\n",
        "rel_df"
      ],
      "metadata": {
        "colab": {
          "base_uri": "https://localhost:8080/",
          "height": 255
        },
        "id": "zpxZ5o5V9qoT",
        "outputId": "5d07c025-2142-478c-b80b-22835fabca7d"
      },
      "execution_count": null,
      "outputs": [
        {
          "output_type": "execute_result",
          "data": {
            "text/plain": [
              "shape: (5, 2)\n",
              "┌────────────────┬──────────┐\n",
              "│ org_id         ┆ remap_id │\n",
              "│ ---            ┆ ---      │\n",
              "│ str            ┆ i64      │\n",
              "╞════════════════╪══════════╡\n",
              "│ course.concept ┆ 0        │\n",
              "│ course.school  ┆ 1        │\n",
              "│ course.teacher ┆ 2        │\n",
              "│ course.field   ┆ 3        │\n",
              "│ course.topic   ┆ 4        │\n",
              "└────────────────┴──────────┘"
            ],
            "text/html": [
              "<div><style>\n",
              ".dataframe > thead > tr,\n",
              ".dataframe > tbody > tr {\n",
              "  text-align: right;\n",
              "  white-space: pre-wrap;\n",
              "}\n",
              "</style>\n",
              "<small>shape: (5, 2)</small><table border=\"1\" class=\"dataframe\"><thead><tr><th>org_id</th><th>remap_id</th></tr><tr><td>str</td><td>i64</td></tr></thead><tbody><tr><td>&quot;course.concept&quot;</td><td>0</td></tr><tr><td>&quot;course.school&quot;</td><td>1</td></tr><tr><td>&quot;course.teacher&quot;</td><td>2</td></tr><tr><td>&quot;course.field&quot;</td><td>3</td></tr><tr><td>&quot;course.topic&quot;</td><td>4</td></tr></tbody></table></div>"
            ]
          },
          "metadata": {},
          "execution_count": 39
        }
      ]
    },
    {
      "cell_type": "code",
      "source": [
        "rel_df.write_csv(RELATION_PATH, separator=' ', include_header=True)"
      ],
      "metadata": {
        "id": "twOd454YYC63"
      },
      "execution_count": null,
      "outputs": []
    },
    {
      "cell_type": "markdown",
      "source": [
        "### KG"
      ],
      "metadata": {
        "id": "5PVXQnWDTxjv"
      }
    },
    {
      "cell_type": "code",
      "source": [
        "entity_mapping = dict(zip(entity_df['org_id'], entity_df['remap_id']))\n",
        "rel_mapping = dict(zip(rel_df['org_id'], rel_df['remap_id']))"
      ],
      "metadata": {
        "id": "xGnyaxCjYQnn"
      },
      "execution_count": null,
      "outputs": []
    },
    {
      "cell_type": "code",
      "source": [
        "enc_triplets = fil_triplets.with_columns(\n",
        "    pl.col('h').replace(entity_mapping).cast(pl.Int32),\n",
        "    pl.col('r').replace(rel_mapping).cast(pl.Int32),\n",
        "    pl.col('t').replace(entity_mapping).cast(pl.Int32)\n",
        ")\n",
        "\n",
        "enc_triplets"
      ],
      "metadata": {
        "colab": {
          "base_uri": "https://localhost:8080/",
          "height": 443
        },
        "id": "CgV3SCzLY38Z",
        "outputId": "1c3a9b56-47ee-4940-ab4b-ea7b0d00c001"
      },
      "execution_count": null,
      "outputs": [
        {
          "output_type": "execute_result",
          "data": {
            "text/plain": [
              "shape: (68_777, 3)\n",
              "┌──────┬─────┬──────┐\n",
              "│ h    ┆ r   ┆ t    │\n",
              "│ ---  ┆ --- ┆ ---  │\n",
              "│ i32  ┆ i32 ┆ i32  │\n",
              "╞══════╪═════╪══════╡\n",
              "│ 575  ┆ 0   ┆ 9706 │\n",
              "│ 51   ┆ 0   ┆ 4451 │\n",
              "│ 92   ┆ 0   ┆ 8641 │\n",
              "│ 2263 ┆ 0   ┆ 3426 │\n",
              "│ 331  ┆ 0   ┆ 7517 │\n",
              "│ …    ┆ …   ┆ …    │\n",
              "│ 2233 ┆ 4   ┆ 8303 │\n",
              "│ 1459 ┆ 0   ┆ 7437 │\n",
              "│ 453  ┆ 0   ┆ 8729 │\n",
              "│ 484  ┆ 0   ┆ 5358 │\n",
              "│ 234  ┆ 0   ┆ 7641 │\n",
              "└──────┴─────┴──────┘"
            ],
            "text/html": [
              "<div><style>\n",
              ".dataframe > thead > tr,\n",
              ".dataframe > tbody > tr {\n",
              "  text-align: right;\n",
              "  white-space: pre-wrap;\n",
              "}\n",
              "</style>\n",
              "<small>shape: (68_777, 3)</small><table border=\"1\" class=\"dataframe\"><thead><tr><th>h</th><th>r</th><th>t</th></tr><tr><td>i32</td><td>i32</td><td>i32</td></tr></thead><tbody><tr><td>575</td><td>0</td><td>9706</td></tr><tr><td>51</td><td>0</td><td>4451</td></tr><tr><td>92</td><td>0</td><td>8641</td></tr><tr><td>2263</td><td>0</td><td>3426</td></tr><tr><td>331</td><td>0</td><td>7517</td></tr><tr><td>&hellip;</td><td>&hellip;</td><td>&hellip;</td></tr><tr><td>2233</td><td>4</td><td>8303</td></tr><tr><td>1459</td><td>0</td><td>7437</td></tr><tr><td>453</td><td>0</td><td>8729</td></tr><tr><td>484</td><td>0</td><td>5358</td></tr><tr><td>234</td><td>0</td><td>7641</td></tr></tbody></table></div>"
            ]
          },
          "metadata": {},
          "execution_count": 42
        }
      ]
    },
    {
      "cell_type": "code",
      "source": [
        "enc_triplets.write_csv(KG_PATH, separator=' ', include_header=False)"
      ],
      "metadata": {
        "id": "R3MP6n9_c0bq"
      },
      "execution_count": null,
      "outputs": []
    },
    {
      "cell_type": "markdown",
      "source": [
        "### user"
      ],
      "metadata": {
        "id": "U984Jf_zTzzG"
      }
    },
    {
      "cell_type": "code",
      "source": [
        "user_df = pl.read_csv('/content/drive/MyDrive/Mạng xã hội/FM/user_map.csv', has_header=False) \\\n",
        "          .rename({\"column_1\": \"org_id\", \"column_2\": \"remap_id\"})\n",
        "\n",
        "user_df"
      ],
      "metadata": {
        "colab": {
          "base_uri": "https://localhost:8080/",
          "height": 443
        },
        "id": "MC-aoOQ5dFDR",
        "outputId": "585ffd58-8ae0-4d2b-84ad-48c64ee67bf7"
      },
      "execution_count": null,
      "outputs": [
        {
          "output_type": "execute_result",
          "data": {
            "text/plain": [
              "shape: (99_970, 2)\n",
              "┌────────────┬──────────┐\n",
              "│ org_id     ┆ remap_id │\n",
              "│ ---        ┆ ---      │\n",
              "│ str        ┆ i64      │\n",
              "╞════════════╪══════════╡\n",
              "│ U_69       ┆ 0        │\n",
              "│ U_90       ┆ 1        │\n",
              "│ U_105      ┆ 2        │\n",
              "│ U_112      ┆ 3        │\n",
              "│ U_172      ┆ 4        │\n",
              "│ …          ┆ …        │\n",
              "│ U_34711787 ┆ 99965    │\n",
              "│ U_34711839 ┆ 99966    │\n",
              "│ U_34711954 ┆ 99967    │\n",
              "│ U_34711985 ┆ 99968    │\n",
              "│ U_34712050 ┆ 99969    │\n",
              "└────────────┴──────────┘"
            ],
            "text/html": [
              "<div><style>\n",
              ".dataframe > thead > tr,\n",
              ".dataframe > tbody > tr {\n",
              "  text-align: right;\n",
              "  white-space: pre-wrap;\n",
              "}\n",
              "</style>\n",
              "<small>shape: (99_970, 2)</small><table border=\"1\" class=\"dataframe\"><thead><tr><th>org_id</th><th>remap_id</th></tr><tr><td>str</td><td>i64</td></tr></thead><tbody><tr><td>&quot;U_69&quot;</td><td>0</td></tr><tr><td>&quot;U_90&quot;</td><td>1</td></tr><tr><td>&quot;U_105&quot;</td><td>2</td></tr><tr><td>&quot;U_112&quot;</td><td>3</td></tr><tr><td>&quot;U_172&quot;</td><td>4</td></tr><tr><td>&hellip;</td><td>&hellip;</td></tr><tr><td>&quot;U_34711787&quot;</td><td>99965</td></tr><tr><td>&quot;U_34711839&quot;</td><td>99966</td></tr><tr><td>&quot;U_34711954&quot;</td><td>99967</td></tr><tr><td>&quot;U_34711985&quot;</td><td>99968</td></tr><tr><td>&quot;U_34712050&quot;</td><td>99969</td></tr></tbody></table></div>"
            ]
          },
          "metadata": {},
          "execution_count": 53
        }
      ]
    },
    {
      "cell_type": "code",
      "source": [
        "user_df.write_csv(USER_PATH, separator=' ', include_header=True)"
      ],
      "metadata": {
        "id": "EO9iXfvIdd8K"
      },
      "execution_count": null,
      "outputs": []
    },
    {
      "cell_type": "markdown",
      "source": [
        "### Interactions"
      ],
      "metadata": {
        "id": "7hlB9El-T1jb"
      }
    },
    {
      "cell_type": "code",
      "source": [
        "entity_mapping = dict(zip(entity_df['org_id'], entity_df['remap_id']))\n",
        "user_mapping = dict(zip(user_df['org_id'], user_df['remap_id']))"
      ],
      "metadata": {
        "id": "BXWjK5jV96dd"
      },
      "execution_count": null,
      "outputs": []
    },
    {
      "cell_type": "code",
      "source": [
        "sorted_interactions = n_core_interactions \\\n",
        "            .with_columns(\n",
        "                pl.col('user').replace(user_mapping).cast(pl.Int32),\n",
        "                pl.col('course').replace(entity_mapping).cast(pl.Int32)\n",
        "            ) \\\n",
        "            .sort('enroll_time') \\\n",
        "            .select(['user', 'course']) \\\n",
        "            .group_by('user') \\\n",
        "            .agg(pl.col('course')) \\\n",
        "            .rename({'course': 'course_order'}) \\\n",
        "            .sort('user')\n",
        "\n",
        "sorted_interactions"
      ],
      "metadata": {
        "colab": {
          "base_uri": "https://localhost:8080/",
          "height": 443
        },
        "id": "cYL5lSraAbQ7",
        "outputId": "fb05df3f-4a15-49bb-d3b6-ad1dac692c05"
      },
      "execution_count": null,
      "outputs": [
        {
          "output_type": "execute_result",
          "data": {
            "text/plain": [
              "shape: (99_970, 2)\n",
              "┌───────┬─────────────────────┐\n",
              "│ user  ┆ course_order        │\n",
              "│ ---   ┆ ---                 │\n",
              "│ i32   ┆ list[i32]           │\n",
              "╞═══════╪═════════════════════╡\n",
              "│ 0     ┆ [0, 1, … 4]         │\n",
              "│ 1     ┆ [5, 6, … 8]         │\n",
              "│ 2     ┆ [9, 10, … 31]       │\n",
              "│ 3     ┆ [1, 32, … 76]       │\n",
              "│ 4     ┆ [65, 73, … 90]      │\n",
              "│ …     ┆ …                   │\n",
              "│ 99965 ┆ [137, 435, … 628]   │\n",
              "│ 99966 ┆ [887, 355, … 137]   │\n",
              "│ 99967 ┆ [1927, 202, … 1867] │\n",
              "│ 99968 ┆ [2115, 1269, … 847] │\n",
              "│ 99969 ┆ [1984, 265, … 82]   │\n",
              "└───────┴─────────────────────┘"
            ],
            "text/html": [
              "<div><style>\n",
              ".dataframe > thead > tr,\n",
              ".dataframe > tbody > tr {\n",
              "  text-align: right;\n",
              "  white-space: pre-wrap;\n",
              "}\n",
              "</style>\n",
              "<small>shape: (99_970, 2)</small><table border=\"1\" class=\"dataframe\"><thead><tr><th>user</th><th>course_order</th></tr><tr><td>i32</td><td>list[i32]</td></tr></thead><tbody><tr><td>0</td><td>[0, 1, … 4]</td></tr><tr><td>1</td><td>[5, 6, … 8]</td></tr><tr><td>2</td><td>[9, 10, … 31]</td></tr><tr><td>3</td><td>[1, 32, … 76]</td></tr><tr><td>4</td><td>[65, 73, … 90]</td></tr><tr><td>&hellip;</td><td>&hellip;</td></tr><tr><td>99965</td><td>[137, 435, … 628]</td></tr><tr><td>99966</td><td>[887, 355, … 137]</td></tr><tr><td>99967</td><td>[1927, 202, … 1867]</td></tr><tr><td>99968</td><td>[2115, 1269, … 847]</td></tr><tr><td>99969</td><td>[1984, 265, … 82]</td></tr></tbody></table></div>"
            ]
          },
          "metadata": {},
          "execution_count": 58
        }
      ]
    },
    {
      "cell_type": "markdown",
      "source": [
        "Train val test split:\n",
        "- Test: last item\n",
        "- Val: penult item\n",
        "- Train: remains"
      ],
      "metadata": {
        "id": "zw5qIoU0gzH_"
      }
    },
    {
      "cell_type": "code",
      "source": [
        "train_file = open(TRAIN_PATH, 'w')\n",
        "val_file = open(VAL_PATH, 'w')\n",
        "test_file = open(TEST_PATH, 'w')\n",
        "\n",
        "for row in tqdm.tqdm(sorted_interactions.iter_rows()):\n",
        "    user, courses = row\n",
        "\n",
        "    train_courses = ' '.join(list(map(str, courses[:-2])))\n",
        "    train_file.write(f'{user} {train_courses}\\n')\n",
        "    val_file.write(f'{user} {courses[-2]}\\n')\n",
        "    test_file.write(f'{user} {courses[-1]}\\n')\n",
        "\n",
        "train_file.close()\n",
        "val_file.close()\n",
        "test_file.close()"
      ],
      "metadata": {
        "colab": {
          "base_uri": "https://localhost:8080/"
        },
        "id": "U2d4kwKxBZYT",
        "outputId": "ee312199-1af2-4117-ad75-fc26d1e5382d"
      },
      "execution_count": null,
      "outputs": [
        {
          "output_type": "stream",
          "name": "stderr",
          "text": [
            "99970it [00:00, 145378.79it/s]\n"
          ]
        }
      ]
    },
    {
      "cell_type": "markdown",
      "source": [
        "# Statistics of knowledge graph"
      ],
      "metadata": {
        "id": "93hTgLcr18JK"
      }
    },
    {
      "cell_type": "code",
      "source": [
        "rel_df = pl.read_csv(os.path.join(MODEL_DATA_DIR, 'relation_list.txt'), separator=' ')\n",
        "rel_mapping = dict(zip(rel_df['remap_id'], rel_df['org_id']))\n",
        "rel_mapping"
      ],
      "metadata": {
        "colab": {
          "base_uri": "https://localhost:8080/"
        },
        "id": "XT-3tfoi3PSH",
        "outputId": "e045ae71-955d-4367-fd29-7200f17e3f37"
      },
      "execution_count": null,
      "outputs": [
        {
          "output_type": "execute_result",
          "data": {
            "text/plain": [
              "{0: 'course.concept',\n",
              " 1: 'course.school',\n",
              " 2: 'course.teacher',\n",
              " 3: 'course.field'}"
            ]
          },
          "metadata": {},
          "execution_count": 10
        }
      ]
    },
    {
      "cell_type": "code",
      "source": [
        "kg_data = pl.read_csv(os.path.join(MODEL_DATA_DIR, 'kg_final.txt'), separator=' ',\n",
        "                      has_header=False, new_columns=['h', 'r', 't'])\n",
        "kg_data.select(['r', 't']).group_by('r').n_unique().with_columns(pl.col('r').replace(rel_mapping))"
      ],
      "metadata": {
        "colab": {
          "base_uri": "https://localhost:8080/",
          "height": 223
        },
        "id": "vVos1Rp72D9l",
        "outputId": "a1640d14-8e58-43f7-d424-d821456236f0"
      },
      "execution_count": null,
      "outputs": [
        {
          "output_type": "execute_result",
          "data": {
            "text/plain": [
              "shape: (4, 2)\n",
              "┌────────────────┬──────┐\n",
              "│ r              ┆ t    │\n",
              "│ ---            ┆ ---  │\n",
              "│ str            ┆ u32  │\n",
              "╞════════════════╪══════╡\n",
              "│ course.field   ┆ 41   │\n",
              "│ course.concept ┆ 7162 │\n",
              "│ course.school  ┆ 144  │\n",
              "│ course.teacher ┆ 40   │\n",
              "└────────────────┴──────┘"
            ],
            "text/html": [
              "<div><style>\n",
              ".dataframe > thead > tr,\n",
              ".dataframe > tbody > tr {\n",
              "  text-align: right;\n",
              "  white-space: pre-wrap;\n",
              "}\n",
              "</style>\n",
              "<small>shape: (4, 2)</small><table border=\"1\" class=\"dataframe\"><thead><tr><th>r</th><th>t</th></tr><tr><td>str</td><td>u32</td></tr></thead><tbody><tr><td>&quot;course.field&quot;</td><td>41</td></tr><tr><td>&quot;course.concept…</td><td>7162</td></tr><tr><td>&quot;course.school&quot;</td><td>144</td></tr><tr><td>&quot;course.teacher…</td><td>40</td></tr></tbody></table></div>"
            ]
          },
          "metadata": {},
          "execution_count": 11
        }
      ]
    },
    {
      "cell_type": "markdown",
      "source": [
        "# Add user gender info to user_list.txt"
      ],
      "metadata": {
        "id": "oOrMb-ZvMs8Z"
      }
    },
    {
      "cell_type": "code",
      "source": [
        "import shutil\n",
        "shutil.copyfile(os.path.join(MODEL_DATA_DIR, 'user_list.txt'),\n",
        "                os.path.join(MODEL_DATA_DIR, 'user_list_without_gender.txt'))"
      ],
      "metadata": {
        "id": "XGLna4qlQjM1"
      },
      "execution_count": null,
      "outputs": []
    },
    {
      "cell_type": "code",
      "source": [
        "user_df = pl.read_ndjson('/content/drive/MyDrive/Mạng xã hội/FM/user_filtered.json') \\\n",
        "            .select(['id', 'gender'])\n",
        "gender_mapping = dict(zip(user_df['id'], user_df['gender']))\n",
        "user_list = pl.read_csv(os.path.join(MODEL_DATA_DIR, 'user_list_without_gender.txt'),\n",
        "                      separator=' ')"
      ],
      "metadata": {
        "id": "H4-5-bUKMxiF"
      },
      "execution_count": null,
      "outputs": []
    },
    {
      "cell_type": "code",
      "source": [
        "user_list = user_list.rename({'org_id': 'id'})\n",
        "user_list = user_list.join(user_df, how='inner', on='id')\n",
        "\n",
        "user_list"
      ],
      "metadata": {
        "colab": {
          "base_uri": "https://localhost:8080/",
          "height": 443
        },
        "id": "BoLG0hCCVV20",
        "outputId": "c2cff10f-ecae-4a70-a827-54f1a0e3b4a0"
      },
      "execution_count": null,
      "outputs": [
        {
          "output_type": "execute_result",
          "data": {
            "text/plain": [
              "shape: (99_970, 3)\n",
              "┌────────────┬──────────┬────────┐\n",
              "│ id         ┆ remap_id ┆ gender │\n",
              "│ ---        ┆ ---      ┆ ---    │\n",
              "│ str        ┆ i64      ┆ f64    │\n",
              "╞════════════╪══════════╪════════╡\n",
              "│ U_69       ┆ 0        ┆ 1.0    │\n",
              "│ U_90       ┆ 1        ┆ 0.0    │\n",
              "│ U_105      ┆ 2        ┆ 1.0    │\n",
              "│ U_112      ┆ 3        ┆ 1.0    │\n",
              "│ U_172      ┆ 4        ┆ 1.0    │\n",
              "│ …          ┆ …        ┆ …      │\n",
              "│ U_34711787 ┆ 99965    ┆ 2.0    │\n",
              "│ U_34711839 ┆ 99966    ┆ 1.0    │\n",
              "│ U_34711954 ┆ 99967    ┆ 2.0    │\n",
              "│ U_34711985 ┆ 99968    ┆ 0.0    │\n",
              "│ U_34712050 ┆ 99969    ┆ 1.0    │\n",
              "└────────────┴──────────┴────────┘"
            ],
            "text/html": [
              "<div><style>\n",
              ".dataframe > thead > tr,\n",
              ".dataframe > tbody > tr {\n",
              "  text-align: right;\n",
              "  white-space: pre-wrap;\n",
              "}\n",
              "</style>\n",
              "<small>shape: (99_970, 3)</small><table border=\"1\" class=\"dataframe\"><thead><tr><th>id</th><th>remap_id</th><th>gender</th></tr><tr><td>str</td><td>i64</td><td>f64</td></tr></thead><tbody><tr><td>&quot;U_69&quot;</td><td>0</td><td>1.0</td></tr><tr><td>&quot;U_90&quot;</td><td>1</td><td>0.0</td></tr><tr><td>&quot;U_105&quot;</td><td>2</td><td>1.0</td></tr><tr><td>&quot;U_112&quot;</td><td>3</td><td>1.0</td></tr><tr><td>&quot;U_172&quot;</td><td>4</td><td>1.0</td></tr><tr><td>&hellip;</td><td>&hellip;</td><td>&hellip;</td></tr><tr><td>&quot;U_34711787&quot;</td><td>99965</td><td>2.0</td></tr><tr><td>&quot;U_34711839&quot;</td><td>99966</td><td>1.0</td></tr><tr><td>&quot;U_34711954&quot;</td><td>99967</td><td>2.0</td></tr><tr><td>&quot;U_34711985&quot;</td><td>99968</td><td>0.0</td></tr><tr><td>&quot;U_34712050&quot;</td><td>99969</td><td>1.0</td></tr></tbody></table></div>"
            ]
          },
          "metadata": {},
          "execution_count": 19
        }
      ]
    },
    {
      "cell_type": "code",
      "source": [
        "user_list.head()"
      ],
      "metadata": {
        "colab": {
          "base_uri": "https://localhost:8080/",
          "height": 255
        },
        "id": "wuHvOMD_5IjV",
        "outputId": "90e69330-5c0f-441d-9c6f-6349fc04b5c7"
      },
      "execution_count": null,
      "outputs": [
        {
          "output_type": "execute_result",
          "data": {
            "text/plain": [
              "shape: (5, 3)\n",
              "┌───────┬──────────┬────────┐\n",
              "│ id    ┆ remap_id ┆ gender │\n",
              "│ ---   ┆ ---      ┆ ---    │\n",
              "│ str   ┆ i64      ┆ i64    │\n",
              "╞═══════╪══════════╪════════╡\n",
              "│ U_69  ┆ 0        ┆ 1      │\n",
              "│ U_90  ┆ 1        ┆ 0      │\n",
              "│ U_105 ┆ 2        ┆ 1      │\n",
              "│ U_112 ┆ 3        ┆ 1      │\n",
              "│ U_172 ┆ 4        ┆ 1      │\n",
              "└───────┴──────────┴────────┘"
            ],
            "text/html": [
              "<div><style>\n",
              ".dataframe > thead > tr,\n",
              ".dataframe > tbody > tr {\n",
              "  text-align: right;\n",
              "  white-space: pre-wrap;\n",
              "}\n",
              "</style>\n",
              "<small>shape: (5, 3)</small><table border=\"1\" class=\"dataframe\"><thead><tr><th>id</th><th>remap_id</th><th>gender</th></tr><tr><td>str</td><td>i64</td><td>i64</td></tr></thead><tbody><tr><td>&quot;U_69&quot;</td><td>0</td><td>1</td></tr><tr><td>&quot;U_90&quot;</td><td>1</td><td>0</td></tr><tr><td>&quot;U_105&quot;</td><td>2</td><td>1</td></tr><tr><td>&quot;U_112&quot;</td><td>3</td><td>1</td></tr><tr><td>&quot;U_172&quot;</td><td>4</td><td>1</td></tr></tbody></table></div>"
            ]
          },
          "metadata": {},
          "execution_count": 23
        }
      ]
    },
    {
      "cell_type": "code",
      "source": [
        "user_list = user_list.rename({'org_id': 'id'})\n",
        "user_list = user_list.join(user_df, how='inner', on='id')"
      ],
      "metadata": {
        "id": "7kRY94VL4Jua"
      },
      "execution_count": null,
      "outputs": []
    },
    {
      "cell_type": "code",
      "source": [
        "user_list.shape"
      ],
      "metadata": {
        "colab": {
          "base_uri": "https://localhost:8080/"
        },
        "id": "NPcZNY5W3oZk",
        "outputId": "f0ef2b86-bb71-47de-e691-ff4563ee5c48"
      },
      "execution_count": null,
      "outputs": [
        {
          "output_type": "execute_result",
          "data": {
            "text/plain": [
              "(99970, 3)"
            ]
          },
          "metadata": {},
          "execution_count": 20
        }
      ]
    },
    {
      "cell_type": "code",
      "source": [
        "user_list = user_list.with_columns(\n",
        "    pl.col(\"gender\").cast(pl.Int64)\n",
        ")"
      ],
      "metadata": {
        "id": "2jSLdCF65nno"
      },
      "execution_count": null,
      "outputs": []
    },
    {
      "cell_type": "code",
      "source": [
        "user_list.write_csv(os.path.join(MODEL_DATA_DIR, 'user_list.txt'), separator=' ')"
      ],
      "metadata": {
        "id": "Qrd9Oxi0Q2su"
      },
      "execution_count": null,
      "outputs": []
    },
    {
      "cell_type": "code",
      "source": [
        "user_list = pl.read_csv('/content/drive/MyDrive/Mạng xã hội/FM/user_list_with_gender.txt', separator=' ')\n",
        "user_list_with_community = pl.read_csv('/content/drive/MyDrive/Mạng xã hội/FM/user_communities.csv')"
      ],
      "metadata": {
        "id": "JlI1HCpRIO3f"
      },
      "execution_count": null,
      "outputs": []
    },
    {
      "cell_type": "code",
      "source": [
        "user_list = user_list.join(user_list_with_community, how='inner', left_on='remap_id',\n",
        "                          right_on='id')"
      ],
      "metadata": {
        "id": "ZnANBcXDZB6T"
      },
      "execution_count": null,
      "outputs": []
    },
    {
      "cell_type": "code",
      "source": [
        "user_list = user_list.drop(\"\")"
      ],
      "metadata": {
        "id": "oj-2z6tlavHh"
      },
      "execution_count": null,
      "outputs": []
    },
    {
      "cell_type": "code",
      "source": [
        "user_list.write_csv('/content/drive/MyDrive/Mạng xã hội/FM/user_list.txt',  separator=' ')"
      ],
      "metadata": {
        "id": "ACdOjL2Sb6mf"
      },
      "execution_count": null,
      "outputs": []
    }
  ]
}